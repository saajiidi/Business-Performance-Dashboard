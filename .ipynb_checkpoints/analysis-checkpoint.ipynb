{
 "cells": [
  {
   "cell_type": "code",
   "execution_count": null,
   "metadata": {},
   "outputs": [],
   "source": [
    "import pandas as pd\n",
    "import plotly.express as px\n",
    "\n",
    "# Load the dataset\n",
    "df = pd.read_csv('data/superstore.csv')\n",
    "\n",
    "# Perform basic analysis\n",
    "sales_by_category = df.groupby('Category')['Sales'].sum().reset_index()\n",
    "sales_by_region = df.groupby('Region')['Sales'].sum().reset_index()\n",
    "\n",
    "# Create visualizations\n",
    "fig1 = px.bar(sales_by_category, x='Category', y='Sales', title='Sales by Category')\n",
    "fig2 = px.pie(sales_by_region, names='Region', values='Sales', title='Sales by Region')\n",
    "\n",
    "# Save visualizations as HTML\n",
    "fig1.write_html('templates/sales_by_category.html')\n",
    "fig2.write_html('templates/sales_by_region.html')"
   ]
  }
 ],
 "metadata": {
  "language_info": {
   "name": "python"
  }
 },
 "nbformat": 4,
 "nbformat_minor": 2
}
